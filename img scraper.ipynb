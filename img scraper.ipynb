{
 "cells": [
  {
   "cell_type": "code",
   "execution_count": 4,
   "id": "28ed382c-0ec9-4dad-acac-6b0418f7d5f9",
   "metadata": {},
   "outputs": [],
   "source": [
    "import requests\n",
    "import logging \n",
    "import os\n",
    "from bs4 import BeautifulSoup  #Scrapinf the HTML or XML content/data from the webpage\n",
    "from urllib.request import urlopen #urllib is used if we want to request to the server (data of image is store in server and we're request the server)"
   ]
  },
  {
   "cell_type": "code",
   "execution_count": 6,
   "id": "23a291a6-87ad-486a-b6ae-f86f71dc3ceb",
   "metadata": {},
   "outputs": [],
   "source": [
    "save_dir=\"images/\"     #creating the dir for storing the images #creating folder name as images\n",
    "if not os.path.exists(save_dir):  #if the dir doesn't exists in our system then create the dir\n",
    "    os.makedirs(save_dir) "
   ]
  },
  {
   "cell_type": "code",
   "execution_count": null,
   "id": "f8e1cb26-1ba6-49be-9cbd-a82b6efc47b7",
   "metadata": {},
   "outputs": [],
   "source": []
  },
  {
   "cell_type": "code",
   "execution_count": 9,
   "id": "ec2500ce-5356-4f86-a25a-7e6e5047b939",
   "metadata": {},
   "outputs": [],
   "source": [
    "query=\"elon musk\"\n",
    "#url=https://www.google.com/search?q=query&tbm=isch&ved=2ahUKEwiR-rz2r7uAAxWO5TgGHUgTA1MQ2-cCegQIABAA&oq=elon+musk&gs_lcp=CgNpbWcQAzIKCAAQigUQsQMQQzIHCAAQigUQQzIHCAAQigUQQzIKCAAQigUQsQMQQzIICAAQgAQQsQMyBwgAEIoFEEMyBwgAEIoFEEMyCAgAEIAEELEDMggIABCABBCxAzIICAAQgAQQsQM6BAgjECc6DQgAEIoFELEDEIMBEEM6CwgAEIAEELEDEIMBOgUIABCABDoICAAQsQMQgwFQjRNYgkdglkxoAnAAeACAAckBiAGwDpIBBjAuMTEuMZgBAKABAaoBC2d3cy13aXotaW1nwAEB&sclient=img&ei=3e7IZNGXLo7L4-EPyKaMmAU&bih=1061&biw=2133&rlz=1C1CHZL_enIN912IN912"
   ]
  },
  {
   "cell_type": "code",
   "execution_count": 11,
   "id": "bbb73cb9-9aba-464c-99ca-131613d63658",
   "metadata": {},
   "outputs": [],
   "source": [
    "response=requests.get(f\"https://www.google.com/search?q={query}&tbm=isch&ved=2ahUKEwiR-rz2r7uAAxWO5TgGHUgTA1MQ2-cCegQIABAA&oq=elon+musk&gs_lcp=CgNpbWcQAzIKCAAQigUQsQMQQzIHCAAQigUQQzIHCAAQigUQQzIKCAAQigUQsQMQQzIICAAQgAQQsQMyBwgAEIoFEEMyBwgAEIoFEEMyCAgAEIAEELEDMggIABCABBCxAzIICAAQgAQQsQM6BAgjECc6DQgAEIoFELEDEIMBEEM6CwgAEIAEELEDEIMBOgUIABCABDoICAAQsQMQgwFQjRNYgkdglkxoAnAAeACAAckBiAGwDpIBBjAuMTEuMZgBAKABAaoBC2d3cy13aXotaW1nwAEB&sclient=img&ei=3e7IZNGXLo7L4-EPyKaMmAU&bih=1061&biw=2133&rlz=1C1CHZL_enIN912IN912\")"
   ]
  },
  {
   "cell_type": "code",
   "execution_count": 12,
   "id": "c4d0b8a4-e3a5-4c5d-80c8-5ee8cc61c3f1",
   "metadata": {},
   "outputs": [
    {
     "data": {
      "text/plain": [
       "<Response [200]>"
      ]
     },
     "execution_count": 12,
     "metadata": {},
     "output_type": "execute_result"
    }
   ],
   "source": [
    "response"
   ]
  },
  {
   "cell_type": "code",
   "execution_count": 17,
   "id": "38bf4ed7-e9a7-4b7c-8278-e7adeb62104a",
   "metadata": {},
   "outputs": [],
   "source": [
    "soup = BeautifulSoup(response.content,\"html.parser\")       #for fetching the HTML or XML data in the data  #soup is the new object"
   ]
  },
  {
   "cell_type": "code",
   "execution_count": 18,
   "id": "e20d2b49-68ec-47b5-9fd7-3900e0882992",
   "metadata": {},
   "outputs": [
    {
     "data": {
      "text/plain": [
       "<!DOCTYPE html PUBLIC \"-//WAPFORUM//DTD XHTML Mobile 1.0//EN\" \"http://www.wapforum.org/DTD/xhtml-mobile10.dtd\">\n",
       "<html lang=\"en-IN\" xmlns=\"http://www.w3.org/1999/xhtml\"><head><meta content=\"application/xhtml+xml; charset=utf-8\" http-equiv=\"Content-Type\"/><meta content=\"no-cache\" name=\"Cache-Control\"/><title>elon musk - Google Search</title><style>a{text-decoration:none;color:inherit}a:hover{text-decoration:underline}a img{border:0}body{font-family:arial,sans-serif;padding:8px;margin:0 auto;max-width:700px;min-width:240px;}.FbhRzb{border-left:thin solid #dadce0;border-right:thin solid #dadce0;border-top:thin solid #dadce0;height:40px;overflow:hidden}.n692Zd{margin-bottom:10px}.cvifge{height:40px;border-spacing:0}.QvGUP{height:40px;padding:0 8px 0 8px;vertical-align:top}.O4cRJf{height:40px;width:100%;padding:0;padding-right:16px}.O1ePr{height:40px;padding:0;vertical-align:top}.kgJEQe{height:36px;width:98px;vertical-align:top;margin-top:4px}.lXLRf{vertical-align:top}.MhzMZd{border:0;vertical-align:middle;font-size:14px;height:40px;padding:0;width:100%;padding-left:16px}.xB0fq{height:40px;border:none;font-size:14px;background-color:#1a73e8;color:#fff;padding:0 16px;margin:0;vertical-align:top;cursor:pointer}.xB0fq:focus{border:1px solid #1a73e8}.M7pB2{border:thin solid #dadce0;margin:0 0 3px 0;font-size:13px;font-weight:500;height:40px}.euZec{width:100%;height:40px;text-align:center;border-spacing:0}table.euZec td{padding:0;width:25%}.QIqI7{display:inline-block;padding-top:4px;font-weight:bold;color:#4285f4}.EY24We{border-bottom:2px solid #4285f4}.CsQyDc{display:inline-block;color:#70757a}.TuS8Ad{font-size:14px}.HddGcc{padding:8px;color:#70757a}.dzp8ae{font-weight:bold;color:#3c4043}.rEM8G{color:#70757a}.bookcf{table-layout:fixed;width:100%;border-spacing:0}.InWNIe{text-align:center}.uZgmoc{border:thin solid #dadce0;color:#70757a;font-size:14px;text-align:center;table-layout:fixed;width:100%}.frGj1b{display:block;padding:12px 0 12px 0;width:100%}.BnJWBc{text-align:center;padding:6px 0 13px 0;height:35px}.e3goi{vertical-align:top;padding:0;height:180px}.GpQGbf{margin:auto;border-collapse:collapse;border-spacing:0;width:100%}</style></head><body><style>.X6ZCif{color:#202124;font-size:11px;line-height:16px;display:inline-block;padding-top:2px;overflow:hidden;padding-bottom:4px;width:100%}.TwVfHd{border-radius:16px;border:thin solid #dadce0;display:inline-block;padding:8px 8px;margin-right:8px;margin-bottom:4px}.yekiAe{background-color:#dadce0}.mnTahd{width:100%}.ezO2md{border:thin solid #dadce0;padding:12px 16px 12px 16px;margin-bottom:10px;font-family:arial,sans-serif}.lIMUZd{font-family:arial,sans-serif}.IkMU6e{border-spacing:0}.SjCsie{width:100%}.EnarA{text-align:center}.NZWO1b{width:162px;height:140px;line-height:140px;overflow:'hidden';text-align:center}.yWs4tf{text-align:center;margin:auto;vertical-align:middle;max-width:162px;max-height:140px}.jB2rPd{padding-top:2px;padding-bottom:8px;}.fYyStc{word-break:break-word}.ynsChf{display:block;white-space:nowrap;overflow:hidden;text-overflow:ellipsis}.Fj3V3b{color:#1967d2;font-size:14px;line-height:20px}.FrIlee{color:#202124;font-size:11px;line-height:16px}.F9iS2e{color:#70757a;font-size:11px;line-height:16px}.WMQ2Le{color:#70757a;font-size:12px;line-height:16px}.x3G5ab{color:#202124;font-size:12px;line-height:16px}.fuLhoc{color:#1967d2;font-size:16px;line-height:20px}.epoveb{font-size:24px;line-height:28px;font-weight:400;color:#202124}.dXDvrc{color:#0d652d;font-size:14px;line-height:20px;word-wrap:break-word}.dloBPe{font-weight:bold}.YVIcad{color:#70757a}.JkVVdd{color:#ea4335}.oXZRFd{color:#ea4335}.MQHtg{color:#fbbc04}.pyMRrb{color:#1e8e3e}.EtTZid{color:#1e8e3e}.M3vVJe{color:#1967d2}.qXLe6d{display:block}.NHQNef{font-style:italic}.Cb8Z7c{white-space:pre}a.ZWRArf{text-decoration:none}a .CVA68e:hover{text-decoration:underline}</style><div class=\"n692Zd\"><div class=\"BnJWBc\"><a class=\"lXLRf\" href=\"/?bih=1061&amp;biw=2133&amp;rlz=1C1CHZL_enIN912IN912&amp;output=images&amp;ie=UTF-8&amp;tbm=isch&amp;sa=X&amp;ved=0ahUKEwib9-7AsruAAxXR3GEKHQFVCvIQPAgC\"><img alt=\"Google\" class=\"kgJEQe\" src=\"/images/branding/searchlogo/1x/googlelogo_desk_heirloom_color_150x55dp.gif\"/></a></div><div class=\"FbhRzb\"><form action=\"/search\"><input name=\"bih\" type=\"hidden\" value=\"1061\"/><input name=\"biw\" type=\"hidden\" value=\"2133\"/><input name=\"rlz\" type=\"hidden\" value=\"1C1CHZL_enIN912IN912\"/><input name=\"ie\" type=\"hidden\" value=\"ISO-8859-1\"/><input name=\"tbm\" type=\"hidden\" value=\"isch\"/><input name=\"oq\" type=\"hidden\"/><input name=\"aqs\" type=\"hidden\"/><table class=\"cvifge\"><tr><td class=\"O4cRJf\"><input class=\"MhzMZd\" name=\"q\" type=\"text\" value=\"elon musk\"/></td><td class=\"O1ePr\"><input class=\"xB0fq\" type=\"submit\" value=\"Search\"/></td></tr></table></form></div><div class=\"M7pB2\"><table class=\"euZec\"><tbody><tr><td><a class=\"CsQyDc\" href=\"/search?q=elon+musk&amp;bih=1061&amp;biw=2133&amp;rlz=1C1CHZL_enIN912IN912&amp;ie=UTF-8&amp;source=lnms&amp;sa=X&amp;ved=0ahUKEwib9-7AsruAAxXR3GEKHQFVCvIQ_AUIBCgA\">ALL</a></td><td><a class=\"CsQyDc\" href=\"/search?q=elon+musk&amp;bih=1061&amp;biw=2133&amp;rlz=1C1CHZL_enIN912IN912&amp;ie=UTF-8&amp;tbm=nws&amp;source=lnms&amp;sa=X&amp;ved=0ahUKEwib9-7AsruAAxXR3GEKHQFVCvIQ_AUIBSgB\">NEWS</a></td><td class=\"EY24We\"><span class=\"QIqI7\">IMAGES</span></td><td><a class=\"CsQyDc\" href=\"/search?q=elon+musk&amp;bih=1061&amp;biw=2133&amp;rlz=1C1CHZL_enIN912IN912&amp;ie=UTF-8&amp;tbm=vid&amp;source=lnms&amp;sa=X&amp;ved=0ahUKEwib9-7AsruAAxXR3GEKHQFVCvIQ_AUIBygD\">VIDEOS</a></td></tr></tbody></table></div></div><div class=\"X6ZCif\"><a class=\"TwVfHd\" href=\"/search?bih=1061&amp;biw=2133&amp;rlz=1C1CHZL_enIN912IN912&amp;ie=UTF-8&amp;tbm=isch&amp;q=elon+musk&amp;chips=q:elon+musk,g_1:tesla&amp;sa=X&amp;ved=0ahUKEwib9-7AsruAAxXR3GEKHQFVCvIQ4lYICygA\">tesla</a><a class=\"TwVfHd\" href=\"/search?bih=1061&amp;biw=2133&amp;rlz=1C1CHZL_enIN912IN912&amp;ie=UTF-8&amp;tbm=isch&amp;q=elon+musk&amp;chips=q:elon+musk,g_1:spacex&amp;sa=X&amp;ved=0ahUKEwib9-7AsruAAxXR3GEKHQFVCvIQ4lYIDCgB\">spacex</a><a class=\"TwVfHd\" href=\"/search?bih=1061&amp;biw=2133&amp;rlz=1C1CHZL_enIN912IN912&amp;ie=UTF-8&amp;tbm=isch&amp;q=elon+musk&amp;chips=q:elon+musk,g_1:wallpaper&amp;sa=X&amp;ved=0ahUKEwib9-7AsruAAxXR3GEKHQFVCvIQ4lYIDSgC\">wallpaper</a><a class=\"TwVfHd\" href=\"/search?bih=1061&amp;biw=2133&amp;rlz=1C1CHZL_enIN912IN912&amp;ie=UTF-8&amp;tbm=isch&amp;q=elon+musk&amp;chips=q:elon+musk,g_1:rocket&amp;sa=X&amp;ved=0ahUKEwib9-7AsruAAxXR3GEKHQFVCvIQ4lYIDigD\">rocket</a><a class=\"TwVfHd\" href=\"/search?bih=1061&amp;biw=2133&amp;rlz=1C1CHZL_enIN912IN912&amp;ie=UTF-8&amp;tbm=isch&amp;q=elon+musk&amp;chips=q:elon+musk,g_1:car&amp;sa=X&amp;ved=0ahUKEwib9-7AsruAAxXR3GEKHQFVCvIQ4lYIDygE\">car</a><a class=\"TwVfHd\" href=\"/search?bih=1061&amp;biw=2133&amp;rlz=1C1CHZL_enIN912IN912&amp;ie=UTF-8&amp;tbm=isch&amp;q=elon+musk&amp;chips=q:elon+musk,g_1:twitter&amp;sa=X&amp;ved=0ahUKEwib9-7AsruAAxXR3GEKHQFVCvIQ4lYIECgF\">twitter</a><a class=\"TwVfHd\" href=\"/search?bih=1061&amp;biw=2133&amp;rlz=1C1CHZL_enIN912IN912&amp;ie=UTF-8&amp;tbm=isch&amp;q=elon+musk&amp;chips=q:elon+musk,g_1:grimes&amp;sa=X&amp;ved=0ahUKEwib9-7AsruAAxXR3GEKHQFVCvIQ4lYIESgG\">grimes</a><a class=\"TwVfHd\" href=\"/search?bih=1061&amp;biw=2133&amp;rlz=1C1CHZL_enIN912IN912&amp;ie=UTF-8&amp;tbm=isch&amp;q=elon+musk&amp;chips=q:elon+musk,g_1:early&amp;sa=X&amp;ved=0ahUKEwib9-7AsruAAxXR3GEKHQFVCvIQ4lYIEigH\">early</a><a class=\"TwVfHd\" href=\"/search?bih=1061&amp;biw=2133&amp;rlz=1C1CHZL_enIN912IN912&amp;ie=UTF-8&amp;tbm=isch&amp;q=elon+musk&amp;chips=q:elon+musk,g_1:paypal&amp;sa=X&amp;ved=0ahUKEwib9-7AsruAAxXR3GEKHQFVCvIQ4lYIEygI\">paypal</a><a class=\"TwVfHd\" href=\"/search?bih=1061&amp;biw=2133&amp;rlz=1C1CHZL_enIN912IN912&amp;ie=UTF-8&amp;tbm=isch&amp;q=elon+musk&amp;chips=q:elon+musk,g_1:family&amp;sa=X&amp;ved=0ahUKEwib9-7AsruAAxXR3GEKHQFVCvIQ4lYIFCgJ\">family</a></div><div><table class=\"GpQGbf\"><tr><td align=\"center\" class=\"e3goi\"><div class=\"mnTahd\"> <div> <div class=\"lIMUZd\"><div><table class=\"IkMU6e\"><tr><td><a href=\"/url?q=https://en.wikipedia.org/wiki/Elon_Musk&amp;sa=U&amp;ved=2ahUKEwib9-7AsruAAxXR3GEKHQFVCvIQqoUBegQIABAB&amp;usg=AOvVaw3KFzvEpbcCC0RJzG-o4DWj\"><div class=\"NZWO1b\"><img alt=\"\" class=\"yWs4tf\" src=\"https://encrypted-tbn0.gstatic.com/images?q=tbn:ANd9GcQ91bYeYuNi93Snai-G61-ct5IkXUEpoeW1RpiOFFuRWggNeJf-7uN0OZsy5XI&amp;s\"/></div></a></td></tr><tr><td><a href=\"/url?q=https://en.wikipedia.org/wiki/Elon_Musk&amp;sa=U&amp;ved=2ahUKEwib9-7AsruAAxXR3GEKHQFVCvIQr4kDegQIABAC&amp;usg=AOvVaw3NXtEF7NQ5LZFli3WDGa_S\"><div class=\"jB2rPd\"> <span class=\"qXLe6d x3G5ab\"> <span class=\"fYyStc\">Elon Musk - Wikipedia</span> </span> <span class=\"qXLe6d F9iS2e\"> <span class=\"fYyStc\">en.wikipedia.org</span> </span> </div></a></td></tr></table></div></div> </div> </div></td><td align=\"center\" class=\"e3goi\"><div class=\"mnTahd\"> <div> <div class=\"lIMUZd\"><div><table class=\"IkMU6e\"><tr><td><a href=\"/url?q=https://www.britannica.com/biography/Elon-Musk&amp;sa=U&amp;ved=2ahUKEwib9-7AsruAAxXR3GEKHQFVCvIQqoUBegQIExAB&amp;usg=AOvVaw1sZ1bA9IkGpSsdx7OyV_jm\"><div class=\"NZWO1b\"><img alt=\"\" class=\"yWs4tf\" src=\"https://encrypted-tbn0.gstatic.com/images?q=tbn:ANd9GcQY_R5NSNoZkSlMo3hf86COGJ4fCv0s6Nx4k8uCGkWc6YGOn_m4-rIOQ3GhOhg&amp;s\"/></div></a></td></tr><tr><td><a href=\"/url?q=https://www.britannica.com/biography/Elon-Musk&amp;sa=U&amp;ved=2ahUKEwib9-7AsruAAxXR3GEKHQFVCvIQr4kDegQIExAC&amp;usg=AOvVaw15R5uW8YdsUni2BMWC0nmT\"><div class=\"jB2rPd\"> <span class=\"qXLe6d x3G5ab\"> <span class=\"fYyStc\">Elon Musk | Biography,...</span> </span> <span class=\"qXLe6d F9iS2e\"> <span class=\"fYyStc\">www.britannica.com</span> </span> </div></a></td></tr></table></div></div> </div> </div></td><td align=\"center\" class=\"e3goi\"><div class=\"mnTahd\"> <div> <div class=\"lIMUZd\"><div><table class=\"IkMU6e\"><tr><td><a href=\"/url?q=https://variety.com/2023/digital/news/twitter-musk-threatens-lawsuit-hate-speech-research-group-1235683325/&amp;sa=U&amp;ved=2ahUKEwib9-7AsruAAxXR3GEKHQFVCvIQqoUBegQIEhAB&amp;usg=AOvVaw09P6SHnhXy61w9B3-4qU53\"><div class=\"NZWO1b\"><img alt=\"\" class=\"yWs4tf\" src=\"https://encrypted-tbn0.gstatic.com/images?q=tbn:ANd9GcRx5f5ZvALxKCXG4mBBnz25lveiCrSiHy1uZXujcApfryzBCs6AU5b9X9vhVg&amp;s\"/></div></a></td></tr><tr><td><a href=\"/url?q=https://variety.com/2023/digital/news/twitter-musk-threatens-lawsuit-hate-speech-research-group-1235683325/&amp;sa=U&amp;ved=2ahUKEwib9-7AsruAAxXR3GEKHQFVCvIQr4kDegQIEhAC&amp;usg=AOvVaw0AxscOnkJON4eFfA-fAa9K\"><div class=\"jB2rPd\"> <span class=\"qXLe6d x3G5ab\"> <span class=\"fYyStc\">Twitter/X Sues Hate-Speech...</span> </span> <span class=\"qXLe6d F9iS2e\"> <span class=\"fYyStc\">variety.com</span> </span> </div></a></td></tr></table></div></div> </div> </div></td><td align=\"center\" class=\"e3goi\"><div class=\"mnTahd\"> <div> <div class=\"lIMUZd\"><div><table class=\"IkMU6e\"><tr><td><a href=\"/url?q=https://www.nbcnews.com/tech/tech-news/elon-musks-takes-x-handle-longtime-twitter-user-rcna96074&amp;sa=U&amp;ved=2ahUKEwib9-7AsruAAxXR3GEKHQFVCvIQqoUBegQIERAB&amp;usg=AOvVaw1kjxeDaTz4sxaMkPU7cgqn\"><div class=\"NZWO1b\"><img alt=\"\" class=\"yWs4tf\" src=\"https://encrypted-tbn0.gstatic.com/images?q=tbn:ANd9GcRtQpWmAVyF0GY0fSRuCMCBei9BltjRD-LJvzeJE_pYM7hq55n64AJAC4CTAA&amp;s\"/></div></a></td></tr><tr><td><a href=\"/url?q=https://www.nbcnews.com/tech/tech-news/elon-musks-takes-x-handle-longtime-twitter-user-rcna96074&amp;sa=U&amp;ved=2ahUKEwib9-7AsruAAxXR3GEKHQFVCvIQr4kDegQIERAC&amp;usg=AOvVaw0msKjkKR_P_ijN08qNNV2Z\"><div class=\"jB2rPd\"> <span class=\"qXLe6d x3G5ab\"> <span class=\"fYyStc\">Elon Musk's X takes @X...</span> </span> <span class=\"qXLe6d F9iS2e\"> <span class=\"fYyStc\">www.nbcnews.com</span> </span> </div></a></td></tr></table></div></div> </div> </div></td></tr><tr><td align=\"center\" class=\"e3goi\"><div class=\"mnTahd\"> <div> <div class=\"lIMUZd\"><div><table class=\"IkMU6e\"><tr><td><a href=\"/url?q=https://www.britannica.com/biography/Elon-Musk&amp;sa=U&amp;ved=2ahUKEwib9-7AsruAAxXR3GEKHQFVCvIQqoUBegQIEBAB&amp;usg=AOvVaw3zzZC0cPLVL1-uBmsvMzJ1\"><div class=\"NZWO1b\"><img alt=\"\" class=\"yWs4tf\" src=\"https://encrypted-tbn0.gstatic.com/images?q=tbn:ANd9GcS6mPr1g683xgMlTnJfswzPyIjixDUJCLKR_GUOYd43dGj0LB8Uum64r_cOjl4&amp;s\"/></div></a></td></tr><tr><td><a href=\"/url?q=https://www.britannica.com/biography/Elon-Musk&amp;sa=U&amp;ved=2ahUKEwib9-7AsruAAxXR3GEKHQFVCvIQr4kDegQIEBAC&amp;usg=AOvVaw3Bia0qE_AdzxlvfmrhlxXA\"><div class=\"jB2rPd\"> <span class=\"qXLe6d x3G5ab\"> <span class=\"fYyStc\">Elon Musk | Biography,...</span> </span> <span class=\"qXLe6d F9iS2e\"> <span class=\"fYyStc\">www.britannica.com</span> </span> </div></a></td></tr></table></div></div> </div> </div></td><td align=\"center\" class=\"e3goi\"><div class=\"mnTahd\"> <div> <div class=\"lIMUZd\"><div><table class=\"IkMU6e\"><tr><td><a href=\"/url?q=https://electrek.co/2023/07/27/disapproval-elon-musk-top-reason-tesla-owners-selling-survey/&amp;sa=U&amp;ved=2ahUKEwib9-7AsruAAxXR3GEKHQFVCvIQqoUBegQIDhAB&amp;usg=AOvVaw3xMITT7XIPhbae5vhr2B99\"><div class=\"NZWO1b\"><img alt=\"\" class=\"yWs4tf\" src=\"https://encrypted-tbn0.gstatic.com/images?q=tbn:ANd9GcQpk3jJ86Eohb2rwfQR_GzzyHCIppuyGWtOXQkVsvfOwmJMdCpXGtK5TwjSgw&amp;s\"/></div></a></td></tr><tr><td><a href=\"/url?q=https://electrek.co/2023/07/27/disapproval-elon-musk-top-reason-tesla-owners-selling-survey/&amp;sa=U&amp;ved=2ahUKEwib9-7AsruAAxXR3GEKHQFVCvIQr4kDegQIDhAC&amp;usg=AOvVaw0IJ3mS28HuNEGHUBOC90iz\"><div class=\"jB2rPd\"> <span class=\"qXLe6d x3G5ab\"> <span class=\"fYyStc\">Disapproval of Elon Musk is...</span> </span> <span class=\"qXLe6d F9iS2e\"> <span class=\"fYyStc\">electrek.co</span> </span> </div></a></td></tr></table></div></div> </div> </div></td><td align=\"center\" class=\"e3goi\"><div class=\"mnTahd\"> <div> <div class=\"lIMUZd\"><div><table class=\"IkMU6e\"><tr><td><a href=\"/url?q=https://www.cnn.com/2023/07/25/tech/twitter-x-elon-musk-rebrand-strategy/index.html&amp;sa=U&amp;ved=2ahUKEwib9-7AsruAAxXR3GEKHQFVCvIQqoUBegQIDRAB&amp;usg=AOvVaw0sToK_a0NsDQiO-NT1awf5\"><div class=\"NZWO1b\"><img alt=\"\" class=\"yWs4tf\" src=\"https://encrypted-tbn0.gstatic.com/images?q=tbn:ANd9GcSJaopQF1rdWhwmr7m77uxo0VCYQTxkktn89EN7f9JqwLBW89SKMl2x7H7083k&amp;s\"/></div></a></td></tr><tr><td><a href=\"/url?q=https://www.cnn.com/2023/07/25/tech/twitter-x-elon-musk-rebrand-strategy/index.html&amp;sa=U&amp;ved=2ahUKEwib9-7AsruAAxXR3GEKHQFVCvIQr4kDegQIDRAC&amp;usg=AOvVaw3HVIutKMJk-9x6QxlMVCh1\"><div class=\"jB2rPd\"> <span class=\"qXLe6d x3G5ab\"> <span class=\"fYyStc\">Twitter's rebrand is the...</span> </span> <span class=\"qXLe6d F9iS2e\"> <span class=\"fYyStc\">www.cnn.com</span> </span> </div></a></td></tr></table></div></div> </div> </div></td><td align=\"center\" class=\"e3goi\"><div class=\"mnTahd\"> <div> <div class=\"lIMUZd\"><div><table class=\"IkMU6e\"><tr><td><a href=\"/url?q=https://www.biography.com/business-leaders/elon-musk&amp;sa=U&amp;ved=2ahUKEwib9-7AsruAAxXR3GEKHQFVCvIQqoUBegQIDBAB&amp;usg=AOvVaw2JxJTxRQZrMX3goeKwT0W6\"><div class=\"NZWO1b\"><img alt=\"\" class=\"yWs4tf\" src=\"https://encrypted-tbn0.gstatic.com/images?q=tbn:ANd9GcTvewo3-e7y-JsV16EL3q3EaMThVwCiuN7DD1_KTctFNodySZtMVcuOKk5uUQ&amp;s\"/></div></a></td></tr><tr><td><a href=\"/url?q=https://www.biography.com/business-leaders/elon-musk&amp;sa=U&amp;ved=2ahUKEwib9-7AsruAAxXR3GEKHQFVCvIQr4kDegQIDBAC&amp;usg=AOvVaw0WC_vC20LgIh9zTTg7j-Cz\"><div class=\"jB2rPd\"> <span class=\"qXLe6d x3G5ab\"> <span class=\"fYyStc\">Elon Musk - Tesla, Age &amp;...</span> </span> <span class=\"qXLe6d F9iS2e\"> <span class=\"fYyStc\">www.biography.com</span> </span> </div></a></td></tr></table></div></div> </div> </div></td></tr><tr><td align=\"center\" class=\"e3goi\"><div class=\"mnTahd\"> <div> <div class=\"lIMUZd\"><div><table class=\"IkMU6e\"><tr><td><a href=\"/url?q=https://commons.wikimedia.org/wiki/File:Elon_Musk_Royal_Society_(crop2).jpg&amp;sa=U&amp;ved=2ahUKEwib9-7AsruAAxXR3GEKHQFVCvIQqoUBegQIDxAB&amp;usg=AOvVaw3qvvES8lib8BycAkthq0LK\"><div class=\"NZWO1b\"><img alt=\"\" class=\"yWs4tf\" src=\"https://encrypted-tbn0.gstatic.com/images?q=tbn:ANd9GcQEoGcTehPfBt44vuvC8wyJieRSiGKWqDO2UHbGG34cRttKR5nGr_NDLJHg_1s&amp;s\"/></div></a></td></tr><tr><td><a href=\"/url?q=https://commons.wikimedia.org/wiki/File:Elon_Musk_Royal_Society_(crop2).jpg&amp;sa=U&amp;ved=2ahUKEwib9-7AsruAAxXR3GEKHQFVCvIQr4kDegQIDxAC&amp;usg=AOvVaw0vuBOJHi3XjJaLGCwGY8R7\"><div class=\"jB2rPd\"> <span class=\"qXLe6d x3G5ab\"> <span class=\"fYyStc\">File:Elon Musk Royal...</span> </span> <span class=\"qXLe6d F9iS2e\"> <span class=\"fYyStc\">commons.wikimedia.org</span> </span> </div></a></td></tr></table></div></div> </div> </div></td><td align=\"center\" class=\"e3goi\"><div class=\"mnTahd\"> <div> <div class=\"lIMUZd\"><div><table class=\"IkMU6e\"><tr><td><a href=\"/url?q=https://news.sky.com/story/x-formerly-twitter-sues-group-accusing-elon-musk-of-allowing-hate-speech-to-thrive-12931658&amp;sa=U&amp;ved=2ahUKEwib9-7AsruAAxXR3GEKHQFVCvIQqoUBegQICxAB&amp;usg=AOvVaw0FG7CzcigIFBBGmqYbiCGS\"><div class=\"NZWO1b\"><img alt=\"\" class=\"yWs4tf\" src=\"https://encrypted-tbn0.gstatic.com/images?q=tbn:ANd9GcTC89VlGhGnhkhZndkkr2qctknVSv-Y-y_uMdwFuVYiN0IesWcxFipg37JKow&amp;s\"/></div></a></td></tr><tr><td><a href=\"/url?q=https://news.sky.com/story/x-formerly-twitter-sues-group-accusing-elon-musk-of-allowing-hate-speech-to-thrive-12931658&amp;sa=U&amp;ved=2ahUKEwib9-7AsruAAxXR3GEKHQFVCvIQr4kDegQICxAC&amp;usg=AOvVaw1icHZK-bh_6LuwAE70VydD\"><div class=\"jB2rPd\"> <span class=\"qXLe6d x3G5ab\"> <span class=\"fYyStc\">X (formerly Twitter) sues...</span> </span> <span class=\"qXLe6d F9iS2e\"> <span class=\"fYyStc\">news.sky.com</span> </span> </div></a></td></tr></table></div></div> </div> </div></td><td align=\"center\" class=\"e3goi\"><div class=\"mnTahd\"> <div> <div class=\"lIMUZd\"><div><table class=\"IkMU6e\"><tr><td><a href=\"/url?q=https://www.investopedia.com/elon-musk-regains-worlds-richest-person-title-7506906&amp;sa=U&amp;ved=2ahUKEwib9-7AsruAAxXR3GEKHQFVCvIQqoUBegQIChAB&amp;usg=AOvVaw28kq7XA4x-OM8oyedaC6VC\"><div class=\"NZWO1b\"><img alt=\"\" class=\"yWs4tf\" src=\"https://encrypted-tbn0.gstatic.com/images?q=tbn:ANd9GcSAml6qsvttMXVIK2cnwNa7LqMi_VvKaRFZcmLSDDbyAiARR95xf8qQVYyxog&amp;s\"/></div></a></td></tr><tr><td><a href=\"/url?q=https://www.investopedia.com/elon-musk-regains-worlds-richest-person-title-7506906&amp;sa=U&amp;ved=2ahUKEwib9-7AsruAAxXR3GEKHQFVCvIQr4kDegQIChAC&amp;usg=AOvVaw3I-NZME1z45f83Xu3nZp6K\"><div class=\"jB2rPd\"> <span class=\"qXLe6d x3G5ab\"> <span class=\"fYyStc\">Elon Musk Regains Title of...</span> </span> <span class=\"qXLe6d F9iS2e\"> <span class=\"fYyStc\">www.investopedia.com</span> </span> </div></a></td></tr></table></div></div> </div> </div></td><td align=\"center\" class=\"e3goi\"><div class=\"mnTahd\"> <div> <div class=\"lIMUZd\"><div><table class=\"IkMU6e\"><tr><td><a href=\"/url?q=https://www.fiercepharma.com/marketing/novo-nordisks-wegovy-gets-surprise-endorsement-twitters-soon-be-new-owner-elon-musk&amp;sa=U&amp;ved=2ahUKEwib9-7AsruAAxXR3GEKHQFVCvIQqoUBegQICRAB&amp;usg=AOvVaw3wz0bX9pNYb6D9eAxv7zqv\"><div class=\"NZWO1b\"><img alt=\"\" class=\"yWs4tf\" src=\"https://encrypted-tbn0.gstatic.com/images?q=tbn:ANd9GcT1FvkQq75khPEQ22ffo19CNwWGkG2LdXFUwl-LYBRZ3N1XYm_oHDDzKn8hca8&amp;s\"/></div></a></td></tr><tr><td><a href=\"/url?q=https://www.fiercepharma.com/marketing/novo-nordisks-wegovy-gets-surprise-endorsement-twitters-soon-be-new-owner-elon-musk&amp;sa=U&amp;ved=2ahUKEwib9-7AsruAAxXR3GEKHQFVCvIQr4kDegQICRAC&amp;usg=AOvVaw0UXPHHRUD7-9zsUT_hSNC5\"><div class=\"jB2rPd\"> <span class=\"qXLe6d x3G5ab\"> <span class=\"fYyStc\">Novo Nordisk's Wegovy gets...</span> </span> <span class=\"qXLe6d F9iS2e\"> <span class=\"fYyStc\">www.fiercepharma.com</span> </span> </div></a></td></tr></table></div></div> </div> </div></td></tr><tr><td align=\"center\" class=\"e3goi\"><div class=\"mnTahd\"> <div> <div class=\"lIMUZd\"><div><table class=\"IkMU6e\"><tr><td><a href=\"/url?q=https://www.theguardian.com/tv-and-radio/2022/oct/12/the-elon-musk-show-review-is-the-worlds-richest-man-a-genius-or-just-a-goofy-loner&amp;sa=U&amp;ved=2ahUKEwib9-7AsruAAxXR3GEKHQFVCvIQqoUBegQICBAB&amp;usg=AOvVaw1HxgUXpW1H6GegbiBftHmg\"><div class=\"NZWO1b\"><img alt=\"\" class=\"yWs4tf\" src=\"https://encrypted-tbn0.gstatic.com/images?q=tbn:ANd9GcRQZseQ9bRxUwHLR5yk-VmJYFt7AuZKTqzI7n1im9SOTEk9qWAeEoQcfZ8l5g&amp;s\"/></div></a></td></tr><tr><td><a href=\"/url?q=https://www.theguardian.com/tv-and-radio/2022/oct/12/the-elon-musk-show-review-is-the-worlds-richest-man-a-genius-or-just-a-goofy-loner&amp;sa=U&amp;ved=2ahUKEwib9-7AsruAAxXR3GEKHQFVCvIQr4kDegQICBAC&amp;usg=AOvVaw0HrX8o6NOeFO7CUcqKCEzT\"><div class=\"jB2rPd\"> <span class=\"qXLe6d x3G5ab\"> <span class=\"fYyStc\">The Elon Musk Show review –...</span> </span> <span class=\"qXLe6d F9iS2e\"> <span class=\"fYyStc\">www.theguardian.com</span> </span> </div></a></td></tr></table></div></div> </div> </div></td><td align=\"center\" class=\"e3goi\"><div class=\"mnTahd\"> <div> <div class=\"lIMUZd\"><div><table class=\"IkMU6e\"><tr><td><a href=\"/url?q=https://www.space.com/18849-elon-musk.html&amp;sa=U&amp;ved=2ahUKEwib9-7AsruAAxXR3GEKHQFVCvIQqoUBegQIBhAB&amp;usg=AOvVaw2pyxPcYemc0cxyTvD9nc-d\"><div class=\"NZWO1b\"><img alt=\"\" class=\"yWs4tf\" src=\"https://encrypted-tbn0.gstatic.com/images?q=tbn:ANd9GcT1Q-0CmrVfXGte1S5KxWDiRtt6djhyUzRP_tIhSGVZqmYd_tGTQH9EmMdXTQ&amp;s\"/></div></a></td></tr><tr><td><a href=\"/url?q=https://www.space.com/18849-elon-musk.html&amp;sa=U&amp;ved=2ahUKEwib9-7AsruAAxXR3GEKHQFVCvIQr4kDegQIBhAC&amp;usg=AOvVaw1dWrbLhxGqDB6KZlnif_wL\"><div class=\"jB2rPd\"> <span class=\"qXLe6d x3G5ab\"> <span class=\"fYyStc\">Elon Musk: Revolutionary...</span> </span> <span class=\"qXLe6d F9iS2e\"> <span class=\"fYyStc\">www.space.com</span> </span> </div></a></td></tr></table></div></div> </div> </div></td><td align=\"center\" class=\"e3goi\"><div class=\"mnTahd\"> <div> <div class=\"lIMUZd\"><div><table class=\"IkMU6e\"><tr><td><a href=\"/url?q=https://www.businessinsider.com/elon-musk-relationships-2017-11&amp;sa=U&amp;ved=2ahUKEwib9-7AsruAAxXR3GEKHQFVCvIQqoUBegQIBxAB&amp;usg=AOvVaw0iOg6Qu-LOrE6ydeRe_EZB\"><div class=\"NZWO1b\"><img alt=\"\" class=\"yWs4tf\" src=\"https://encrypted-tbn0.gstatic.com/images?q=tbn:ANd9GcTajsryULnUhibLm7EAy_8EkoDdfDf-C3MgzuCkCs3my64MQcQxf4O63e74kEI&amp;s\"/></div></a></td></tr><tr><td><a href=\"/url?q=https://www.businessinsider.com/elon-musk-relationships-2017-11&amp;sa=U&amp;ved=2ahUKEwib9-7AsruAAxXR3GEKHQFVCvIQr4kDegQIBxAC&amp;usg=AOvVaw1NilAP3jXahtbXwEvCFdbK\"><div class=\"jB2rPd\"> <span class=\"qXLe6d x3G5ab\"> <span class=\"fYyStc\">Elon Musk Relationship...</span> </span> <span class=\"qXLe6d F9iS2e\"> <span class=\"fYyStc\">www.businessinsider.com</span> </span> </div></a></td></tr></table></div></div> </div> </div></td><td align=\"center\" class=\"e3goi\"><div class=\"mnTahd\"> <div> <div class=\"lIMUZd\"><div><table class=\"IkMU6e\"><tr><td><a href=\"/url?q=https://www.cnn.com/2023/07/12/tech/elon-musk-ai-company/index.html&amp;sa=U&amp;ved=2ahUKEwib9-7AsruAAxXR3GEKHQFVCvIQqoUBegQIBRAB&amp;usg=AOvVaw0-aCbGSjAf8_v60kftb5Pq\"><div class=\"NZWO1b\"><img alt=\"\" class=\"yWs4tf\" src=\"https://encrypted-tbn0.gstatic.com/images?q=tbn:ANd9GcRUNt-70ZeRtX94MTAGG_0jct8icPN38L_0vC8ub8XMMGdqXlbjk3aWVvEiX6c&amp;s\"/></div></a></td></tr><tr><td><a href=\"/url?q=https://www.cnn.com/2023/07/12/tech/elon-musk-ai-company/index.html&amp;sa=U&amp;ved=2ahUKEwib9-7AsruAAxXR3GEKHQFVCvIQr4kDegQIBRAC&amp;usg=AOvVaw36kI-U668OflOZlCs4dt_c\"><div class=\"jB2rPd\"> <span class=\"qXLe6d x3G5ab\"> <span class=\"fYyStc\">xAI: Elon Musk announces a...</span> </span> <span class=\"qXLe6d F9iS2e\"> <span class=\"fYyStc\">www.cnn.com</span> </span> </div></a></td></tr></table></div></div> </div> </div></td></tr><tr><td align=\"center\" class=\"e3goi\"><div class=\"mnTahd\"> <div> <div class=\"lIMUZd\"><div><table class=\"IkMU6e\"><tr><td><a href=\"/url?q=https://www.simonandschuster.com/books/Elon-Musk/Walter-Isaacson/9781982181284&amp;sa=U&amp;ved=2ahUKEwib9-7AsruAAxXR3GEKHQFVCvIQqoUBegQIBBAB&amp;usg=AOvVaw05-s1hoi6hTAAB7BL5N-2v\"><div class=\"NZWO1b\"><img alt=\"\" class=\"yWs4tf\" src=\"https://encrypted-tbn0.gstatic.com/images?q=tbn:ANd9GcS6PtbO3oSFgC1yh6BPlre0Sr5h3aca6UrEmg7ibGUrD1g40Xm5cZBGYl7G3PU&amp;s\"/></div></a></td></tr><tr><td><a href=\"/url?q=https://www.simonandschuster.com/books/Elon-Musk/Walter-Isaacson/9781982181284&amp;sa=U&amp;ved=2ahUKEwib9-7AsruAAxXR3GEKHQFVCvIQr4kDegQIBBAC&amp;usg=AOvVaw1d2AutMGny2gbbXi9RNPx9\"><div class=\"jB2rPd\"> <span class=\"qXLe6d x3G5ab\"> <span class=\"fYyStc\">Elon Musk | Book by Walter...</span> </span> <span class=\"qXLe6d F9iS2e\"> <span class=\"fYyStc\">www.simonandschuster.com</span> </span> </div></a></td></tr></table></div></div> </div> </div></td><td align=\"center\" class=\"e3goi\"><div class=\"mnTahd\"> <div> <div class=\"lIMUZd\"><div><table class=\"IkMU6e\"><tr><td><a href=\"/url?q=https://www.foxbusiness.com/economy/musk-says-x-wont-leave-san-francisco-despite-city-facing-doom-spiral&amp;sa=U&amp;ved=2ahUKEwib9-7AsruAAxXR3GEKHQFVCvIQqoUBegQIAxAB&amp;usg=AOvVaw0hmY2oW-urgR7XALsp0NTt\"><div class=\"NZWO1b\"><img alt=\"\" class=\"yWs4tf\" src=\"https://encrypted-tbn0.gstatic.com/images?q=tbn:ANd9GcQM97QW1fnYuhoBOyXWfpfdPSI3FL4WPhUrqtBkaP3QGW_PGziYZV3peMme-A&amp;s\"/></div></a></td></tr><tr><td><a href=\"/url?q=https://www.foxbusiness.com/economy/musk-says-x-wont-leave-san-francisco-despite-city-facing-doom-spiral&amp;sa=U&amp;ved=2ahUKEwib9-7AsruAAxXR3GEKHQFVCvIQr4kDegQIAxAC&amp;usg=AOvVaw1gIBXvc17LEvo0g6JEBpC0\"><div class=\"jB2rPd\"> <span class=\"qXLe6d x3G5ab\"> <span class=\"fYyStc\">Musk says X won't leave San...</span> </span> <span class=\"qXLe6d F9iS2e\"> <span class=\"fYyStc\">www.foxbusiness.com</span> </span> </div></a></td></tr></table></div></div> </div> </div></td><td align=\"center\" class=\"e3goi\"><div class=\"mnTahd\"> <div> <div class=\"lIMUZd\"><div><table class=\"IkMU6e\"><tr><td><a href=\"/url?q=https://www.gadgets360.com/auto/news/elon-musk-tesla-ceo-ai-progress-full-self-driving-software-humanoid-robots-4228259&amp;sa=U&amp;ved=2ahUKEwib9-7AsruAAxXR3GEKHQFVCvIQqoUBegQIAhAB&amp;usg=AOvVaw18ONt2ziP5To9PvnZ3l-r_\"><div class=\"NZWO1b\"><img alt=\"\" class=\"yWs4tf\" src=\"https://encrypted-tbn0.gstatic.com/images?q=tbn:ANd9GcRw_J9BJySt7qZQU_VDoChQCUmucErCccQXvZfhpmJRpUGcKo0MwzeEb5Gn-QY&amp;s\"/></div></a></td></tr><tr><td><a href=\"/url?q=https://www.gadgets360.com/auto/news/elon-musk-tesla-ceo-ai-progress-full-self-driving-software-humanoid-robots-4228259&amp;sa=U&amp;ved=2ahUKEwib9-7AsruAAxXR3GEKHQFVCvIQr4kDegQIAhAC&amp;usg=AOvVaw3_BGYE9xs6a5mhl6-xiVeh\"><div class=\"jB2rPd\"> <span class=\"qXLe6d x3G5ab\"> <span class=\"fYyStc\">Tesla CEO Elon Musk...</span> </span> <span class=\"qXLe6d F9iS2e\"> <span class=\"fYyStc\">www.gadgets360.com</span> </span> </div></a></td></tr></table></div></div> </div> </div></td><td align=\"center\" class=\"e3goi\"><div class=\"mnTahd\"> <div> <div class=\"lIMUZd\"><div><table class=\"IkMU6e\"><tr><td><a href=\"/url?q=https://www.nytimes.com/2023/03/29/technology/ai-artificial-intelligence-musk-risks.html&amp;sa=U&amp;ved=2ahUKEwib9-7AsruAAxXR3GEKHQFVCvIQqoUBegQIARAB&amp;usg=AOvVaw1iSo8tsxOOvLQw8HHSZ7hF\"><div class=\"NZWO1b\"><img alt=\"\" class=\"yWs4tf\" src=\"https://encrypted-tbn0.gstatic.com/images?q=tbn:ANd9GcQ1Qmn_A0ULvVNIa1fPeOPJR1m32J5-lAoZSCk2Jf02Dt09zYw5tPxI894BC_s&amp;s\"/></div></a></td></tr><tr><td><a href=\"/url?q=https://www.nytimes.com/2023/03/29/technology/ai-artificial-intelligence-musk-risks.html&amp;sa=U&amp;ved=2ahUKEwib9-7AsruAAxXR3GEKHQFVCvIQr4kDegQIARAC&amp;usg=AOvVaw1uulc72yk-UAcsVVVX1itl\"><div class=\"jB2rPd\"> <span class=\"qXLe6d x3G5ab\"> <span class=\"fYyStc\">Elon Musk and Others Call...</span> </span> <span class=\"qXLe6d F9iS2e\"> <span class=\"fYyStc\">www.nytimes.com</span> </span> </div></a></td></tr></table></div></div> </div> </div></td></tr></table></div><table class=\"uZgmoc\"><tbody><td><a class=\"frGj1b\" href=\"/search?q=elon+musk&amp;bih=1061&amp;biw=2133&amp;rlz=1C1CHZL_enIN912IN912&amp;ie=UTF-8&amp;tbm=isch&amp;ei=kvHIZJvmJtG5hwOBqqmQDw&amp;start=20&amp;sa=N\">Next &gt;</a></td></tbody></table><br/><div class=\"TuS8Ad\" data-ved=\"0ahUKEwib9-7AsruAAxXR3GEKHQFVCvIQpyoIUg\"><style>.VYM29{font-weight:bold}</style><div align=\"center\" class=\"HddGcc\"><span class=\"VYM29\">390012, Vadodara, Gujarat</span><span> - </span><span>From your IP address</span><span> - </span><a href=\"/url?q=https://support.google.com/websearch%3Fp%3Dws_settings_location%26hl%3Den-IN&amp;sa=U&amp;ved=0ahUKEwib9-7AsruAAxXR3GEKHQFVCvIQty4IUw&amp;usg=AOvVaw1kwRpQPu2diyPvDyPxnFjx\">Learn more</a></div><div align=\"center\"><a class=\"rEM8G\" href=\"/url?q=https://accounts.google.com/ServiceLogin%3Fcontinue%3Dhttps://www.google.com/search%253Fq%253Delon%252Bmusk%2526tbm%253Disch%2526ved%253D2ahUKEwiR-rz2r7uAAxWO5TgGHUgTA1MQ2-cCegQIABAA%2526oq%253Delon%252Bmusk%2526gs_lcp%253DCgNpbWcQAzIKCAAQigUQsQMQQzIHCAAQigUQQzIHCAAQigUQQzIKCAAQigUQsQMQQzIICAAQgAQQsQMyBwgAEIoFEEMyBwgAEIoFEEMyCAgAEIAEELEDMggIABCABBCxAzIICAAQgAQQsQM6BAgjECc6DQgAEIoFELEDEIMBEEM6CwgAEIAEELEDEIMBOgUIABCABDoICAAQsQMQgwFQjRNYgkdglkxoAnAAeACAAckBiAGwDpIBBjAuMTEuMZgBAKABAaoBC2d3cy13aXotaW1nwAEB%2526sclient%253Dimg%2526ei%253D3e7IZNGXLo7L4-EPyKaMmAU%2526bih%253D1061%2526biw%253D2133%2526rlz%253D1C1CHZL_enIN912IN912%26hl%3Den&amp;sa=U&amp;ved=0ahUKEwib9-7AsruAAxXR3GEKHQFVCvIQxs8CCFQ&amp;usg=AOvVaw37Pq3xwSzpI00ufUAjyf3q\">Sign in</a></div><div><table class=\"bookcf\"><tbody class=\"InWNIe\"><tr><td><a class=\"rEM8G\" href=\"https://www.google.com/preferences?hl=en&amp;sa=X&amp;ved=0ahUKEwib9-7AsruAAxXR3GEKHQFVCvIQv5YECFU\">Settings</a></td><td><a class=\"rEM8G\" href=\"https://www.google.com/intl/en_in/policies/privacy/\">Privacy</a></td><td><a class=\"rEM8G\" href=\"https://www.google.com/intl/en_in/policies/terms/\">Terms</a></td></tr></tbody></table></div></div><div> </div></body></html>"
      ]
     },
     "execution_count": 18,
     "metadata": {},
     "output_type": "execute_result"
    }
   ],
   "source": [
    "soup"
   ]
  },
  {
   "cell_type": "code",
   "execution_count": 27,
   "id": "f172173b-80ce-4303-b5a0-13ffa6ffe93a",
   "metadata": {},
   "outputs": [],
   "source": [
    "image_tags=soup.find_all(\"img\")        #Find All the img tags in soup  #Found in the form of lists"
   ]
  },
  {
   "cell_type": "code",
   "execution_count": 28,
   "id": "b4806b43-f57d-4d7f-960d-115f8a0bf730",
   "metadata": {},
   "outputs": [],
   "source": [
    "del image_tags[0]        #Deleting the first found link as it's only the description not the clickable link"
   ]
  },
  {
   "cell_type": "code",
   "execution_count": 29,
   "id": "41922ef0-bbe3-449f-945d-bb8ad79d42dd",
   "metadata": {},
   "outputs": [
    {
     "data": {
      "text/plain": [
       "[<img alt=\"\" class=\"yWs4tf\" src=\"https://encrypted-tbn0.gstatic.com/images?q=tbn:ANd9GcQ91bYeYuNi93Snai-G61-ct5IkXUEpoeW1RpiOFFuRWggNeJf-7uN0OZsy5XI&amp;s\"/>,\n",
       " <img alt=\"\" class=\"yWs4tf\" src=\"https://encrypted-tbn0.gstatic.com/images?q=tbn:ANd9GcQY_R5NSNoZkSlMo3hf86COGJ4fCv0s6Nx4k8uCGkWc6YGOn_m4-rIOQ3GhOhg&amp;s\"/>,\n",
       " <img alt=\"\" class=\"yWs4tf\" src=\"https://encrypted-tbn0.gstatic.com/images?q=tbn:ANd9GcRx5f5ZvALxKCXG4mBBnz25lveiCrSiHy1uZXujcApfryzBCs6AU5b9X9vhVg&amp;s\"/>,\n",
       " <img alt=\"\" class=\"yWs4tf\" src=\"https://encrypted-tbn0.gstatic.com/images?q=tbn:ANd9GcRtQpWmAVyF0GY0fSRuCMCBei9BltjRD-LJvzeJE_pYM7hq55n64AJAC4CTAA&amp;s\"/>,\n",
       " <img alt=\"\" class=\"yWs4tf\" src=\"https://encrypted-tbn0.gstatic.com/images?q=tbn:ANd9GcS6mPr1g683xgMlTnJfswzPyIjixDUJCLKR_GUOYd43dGj0LB8Uum64r_cOjl4&amp;s\"/>,\n",
       " <img alt=\"\" class=\"yWs4tf\" src=\"https://encrypted-tbn0.gstatic.com/images?q=tbn:ANd9GcQpk3jJ86Eohb2rwfQR_GzzyHCIppuyGWtOXQkVsvfOwmJMdCpXGtK5TwjSgw&amp;s\"/>,\n",
       " <img alt=\"\" class=\"yWs4tf\" src=\"https://encrypted-tbn0.gstatic.com/images?q=tbn:ANd9GcSJaopQF1rdWhwmr7m77uxo0VCYQTxkktn89EN7f9JqwLBW89SKMl2x7H7083k&amp;s\"/>,\n",
       " <img alt=\"\" class=\"yWs4tf\" src=\"https://encrypted-tbn0.gstatic.com/images?q=tbn:ANd9GcTvewo3-e7y-JsV16EL3q3EaMThVwCiuN7DD1_KTctFNodySZtMVcuOKk5uUQ&amp;s\"/>,\n",
       " <img alt=\"\" class=\"yWs4tf\" src=\"https://encrypted-tbn0.gstatic.com/images?q=tbn:ANd9GcQEoGcTehPfBt44vuvC8wyJieRSiGKWqDO2UHbGG34cRttKR5nGr_NDLJHg_1s&amp;s\"/>,\n",
       " <img alt=\"\" class=\"yWs4tf\" src=\"https://encrypted-tbn0.gstatic.com/images?q=tbn:ANd9GcTC89VlGhGnhkhZndkkr2qctknVSv-Y-y_uMdwFuVYiN0IesWcxFipg37JKow&amp;s\"/>,\n",
       " <img alt=\"\" class=\"yWs4tf\" src=\"https://encrypted-tbn0.gstatic.com/images?q=tbn:ANd9GcSAml6qsvttMXVIK2cnwNa7LqMi_VvKaRFZcmLSDDbyAiARR95xf8qQVYyxog&amp;s\"/>,\n",
       " <img alt=\"\" class=\"yWs4tf\" src=\"https://encrypted-tbn0.gstatic.com/images?q=tbn:ANd9GcT1FvkQq75khPEQ22ffo19CNwWGkG2LdXFUwl-LYBRZ3N1XYm_oHDDzKn8hca8&amp;s\"/>,\n",
       " <img alt=\"\" class=\"yWs4tf\" src=\"https://encrypted-tbn0.gstatic.com/images?q=tbn:ANd9GcRQZseQ9bRxUwHLR5yk-VmJYFt7AuZKTqzI7n1im9SOTEk9qWAeEoQcfZ8l5g&amp;s\"/>,\n",
       " <img alt=\"\" class=\"yWs4tf\" src=\"https://encrypted-tbn0.gstatic.com/images?q=tbn:ANd9GcT1Q-0CmrVfXGte1S5KxWDiRtt6djhyUzRP_tIhSGVZqmYd_tGTQH9EmMdXTQ&amp;s\"/>,\n",
       " <img alt=\"\" class=\"yWs4tf\" src=\"https://encrypted-tbn0.gstatic.com/images?q=tbn:ANd9GcTajsryULnUhibLm7EAy_8EkoDdfDf-C3MgzuCkCs3my64MQcQxf4O63e74kEI&amp;s\"/>,\n",
       " <img alt=\"\" class=\"yWs4tf\" src=\"https://encrypted-tbn0.gstatic.com/images?q=tbn:ANd9GcRUNt-70ZeRtX94MTAGG_0jct8icPN38L_0vC8ub8XMMGdqXlbjk3aWVvEiX6c&amp;s\"/>,\n",
       " <img alt=\"\" class=\"yWs4tf\" src=\"https://encrypted-tbn0.gstatic.com/images?q=tbn:ANd9GcS6PtbO3oSFgC1yh6BPlre0Sr5h3aca6UrEmg7ibGUrD1g40Xm5cZBGYl7G3PU&amp;s\"/>,\n",
       " <img alt=\"\" class=\"yWs4tf\" src=\"https://encrypted-tbn0.gstatic.com/images?q=tbn:ANd9GcQM97QW1fnYuhoBOyXWfpfdPSI3FL4WPhUrqtBkaP3QGW_PGziYZV3peMme-A&amp;s\"/>,\n",
       " <img alt=\"\" class=\"yWs4tf\" src=\"https://encrypted-tbn0.gstatic.com/images?q=tbn:ANd9GcRw_J9BJySt7qZQU_VDoChQCUmucErCccQXvZfhpmJRpUGcKo0MwzeEb5Gn-QY&amp;s\"/>,\n",
       " <img alt=\"\" class=\"yWs4tf\" src=\"https://encrypted-tbn0.gstatic.com/images?q=tbn:ANd9GcQ1Qmn_A0ULvVNIa1fPeOPJR1m32J5-lAoZSCk2Jf02Dt09zYw5tPxI894BC_s&amp;s\"/>]"
      ]
     },
     "execution_count": 29,
     "metadata": {},
     "output_type": "execute_result"
    }
   ],
   "source": [
    "image_tags"
   ]
  },
  {
   "cell_type": "code",
   "execution_count": 30,
   "id": "ec9a086a-3376-41b0-bc83-80ea1c7873d8",
   "metadata": {},
   "outputs": [
    {
     "data": {
      "text/plain": [
       "20"
      ]
     },
     "execution_count": 30,
     "metadata": {},
     "output_type": "execute_result"
    }
   ],
   "source": [
    "len(image_tags)"
   ]
  },
  {
   "cell_type": "code",
   "execution_count": 34,
   "id": "f41a5827-432e-4502-8fc7-8573fe81f6b1",
   "metadata": {},
   "outputs": [
    {
     "name": "stdout",
     "output_type": "stream",
     "text": [
      "https://encrypted-tbn0.gstatic.com/images?q=tbn:ANd9GcQ91bYeYuNi93Snai-G61-ct5IkXUEpoeW1RpiOFFuRWggNeJf-7uN0OZsy5XI&s\n",
      "https://encrypted-tbn0.gstatic.com/images?q=tbn:ANd9GcQY_R5NSNoZkSlMo3hf86COGJ4fCv0s6Nx4k8uCGkWc6YGOn_m4-rIOQ3GhOhg&s\n",
      "https://encrypted-tbn0.gstatic.com/images?q=tbn:ANd9GcRx5f5ZvALxKCXG4mBBnz25lveiCrSiHy1uZXujcApfryzBCs6AU5b9X9vhVg&s\n",
      "https://encrypted-tbn0.gstatic.com/images?q=tbn:ANd9GcRtQpWmAVyF0GY0fSRuCMCBei9BltjRD-LJvzeJE_pYM7hq55n64AJAC4CTAA&s\n",
      "https://encrypted-tbn0.gstatic.com/images?q=tbn:ANd9GcS6mPr1g683xgMlTnJfswzPyIjixDUJCLKR_GUOYd43dGj0LB8Uum64r_cOjl4&s\n",
      "https://encrypted-tbn0.gstatic.com/images?q=tbn:ANd9GcQpk3jJ86Eohb2rwfQR_GzzyHCIppuyGWtOXQkVsvfOwmJMdCpXGtK5TwjSgw&s\n",
      "https://encrypted-tbn0.gstatic.com/images?q=tbn:ANd9GcSJaopQF1rdWhwmr7m77uxo0VCYQTxkktn89EN7f9JqwLBW89SKMl2x7H7083k&s\n",
      "https://encrypted-tbn0.gstatic.com/images?q=tbn:ANd9GcTvewo3-e7y-JsV16EL3q3EaMThVwCiuN7DD1_KTctFNodySZtMVcuOKk5uUQ&s\n",
      "https://encrypted-tbn0.gstatic.com/images?q=tbn:ANd9GcQEoGcTehPfBt44vuvC8wyJieRSiGKWqDO2UHbGG34cRttKR5nGr_NDLJHg_1s&s\n",
      "https://encrypted-tbn0.gstatic.com/images?q=tbn:ANd9GcTC89VlGhGnhkhZndkkr2qctknVSv-Y-y_uMdwFuVYiN0IesWcxFipg37JKow&s\n",
      "https://encrypted-tbn0.gstatic.com/images?q=tbn:ANd9GcSAml6qsvttMXVIK2cnwNa7LqMi_VvKaRFZcmLSDDbyAiARR95xf8qQVYyxog&s\n",
      "https://encrypted-tbn0.gstatic.com/images?q=tbn:ANd9GcT1FvkQq75khPEQ22ffo19CNwWGkG2LdXFUwl-LYBRZ3N1XYm_oHDDzKn8hca8&s\n",
      "https://encrypted-tbn0.gstatic.com/images?q=tbn:ANd9GcRQZseQ9bRxUwHLR5yk-VmJYFt7AuZKTqzI7n1im9SOTEk9qWAeEoQcfZ8l5g&s\n",
      "https://encrypted-tbn0.gstatic.com/images?q=tbn:ANd9GcT1Q-0CmrVfXGte1S5KxWDiRtt6djhyUzRP_tIhSGVZqmYd_tGTQH9EmMdXTQ&s\n",
      "https://encrypted-tbn0.gstatic.com/images?q=tbn:ANd9GcTajsryULnUhibLm7EAy_8EkoDdfDf-C3MgzuCkCs3my64MQcQxf4O63e74kEI&s\n",
      "https://encrypted-tbn0.gstatic.com/images?q=tbn:ANd9GcRUNt-70ZeRtX94MTAGG_0jct8icPN38L_0vC8ub8XMMGdqXlbjk3aWVvEiX6c&s\n",
      "https://encrypted-tbn0.gstatic.com/images?q=tbn:ANd9GcS6PtbO3oSFgC1yh6BPlre0Sr5h3aca6UrEmg7ibGUrD1g40Xm5cZBGYl7G3PU&s\n",
      "https://encrypted-tbn0.gstatic.com/images?q=tbn:ANd9GcQM97QW1fnYuhoBOyXWfpfdPSI3FL4WPhUrqtBkaP3QGW_PGziYZV3peMme-A&s\n",
      "https://encrypted-tbn0.gstatic.com/images?q=tbn:ANd9GcRw_J9BJySt7qZQU_VDoChQCUmucErCccQXvZfhpmJRpUGcKo0MwzeEb5Gn-QY&s\n",
      "https://encrypted-tbn0.gstatic.com/images?q=tbn:ANd9GcQ1Qmn_A0ULvVNIa1fPeOPJR1m32J5-lAoZSCk2Jf02Dt09zYw5tPxI894BC_s&s\n"
     ]
    }
   ],
   "source": [
    "#for only the links of all the images we need to collect the src of every image \n",
    "for i in image_tags:\n",
    "    print(i['src'])"
   ]
  },
  {
   "cell_type": "code",
   "execution_count": 53,
   "id": "f6688b25-6ada-458f-ac4e-0373670cf0fb",
   "metadata": {},
   "outputs": [
    {
     "data": {
      "text/plain": [
       "b'\\xff\\xd8\\xff\\xe0\\x00\\x10JFIF\\x00\\x01\\x01\\x00\\x00\\x01\\x00\\x01\\x00\\x00\\xff\\xdb\\x00\\x84\\x00\\t\\x06\\x07\\x08\\x07\\x06\\t\\x08\\x07\\x08\\n\\n\\t\\x0b\\r\\x16\\x0f\\r\\x0c\\x0c\\r\\x1b\\x14\\x15\\x10\\x16 \\x1d\"\" \\x1d\\x1f\\x1f$(4,$&1\\'\\x1f\\x1f-=-157:::#+?D?8C49:7\\x01\\n\\n\\n\\r\\x0c\\r\\x1a\\x0f\\x0f\\x1a7%\\x1f%77777777777777777777777777777777777777777777777777\\xff\\xc0\\x00\\x11\\x08\\x00\\x8c\\x00r\\x03\\x01\"\\x00\\x02\\x11\\x01\\x03\\x11\\x01\\xff\\xc4\\x00\\x1c\\x00\\x00\\x02\\x02\\x03\\x01\\x01\\x00\\x00\\x00\\x00\\x00\\x00\\x00\\x00\\x00\\x00\\x03\\x04\\x05\\x06\\x00\\x02\\x07\\x01\\x08\\xff\\xc4\\x00@\\x10\\x00\\x02\\x01\\x03\\x03\\x02\\x03\\x05\\x04\\x06\\x07\\t\\x00\\x00\\x00\\x00\\x01\\x02\\x03\\x00\\x04\\x11\\x05\\x12!1A\\x06\"Q\\x13aq\\x81\\x91\\x07\\x142\\xa1\\x15#B\\xb1\\xc1\\xd1CR\\x82\\xa2\\xb2\\xe1\\xf1$3Dcr\\x92\\xb3\\xc2\\xf0\\xff\\xc4\\x00\\x19\\x01\\x00\\x03\\x01\\x01\\x01\\x00\\x00\\x00\\x00\\x00\\x00\\x00\\x00\\x00\\x00\\x00\\x00\\x01\\x02\\x03\\x04\\x05\\xff\\xc4\\x00!\\x11\\x01\\x01\\x00\\x02\\x03\\x00\\x02\\x02\\x03\\x00\\x00\\x00\\x00\\x00\\x00\\x00\\x00\\x01\\x02\\x11\\x03!1\\x12A\\x042\"Qa\\xff\\xda\\x00\\x0c\\x03\\x01\\x00\\x02\\x11\\x03\\x11\\x00?\\x00\\xe4Q\\xf6\\xa3c\\x8a\\x0ctj\\xd1\\r\\x1e\\x95\\x94SM\\xde\\x96\\x96\\x95\\x10\\x03YXG5\\xee\\xd6#*\\xa4\\xfa\\xe0t\\xa4\\xa7\\x95\\x94x\\xed.\\x1c\\x8d\\xb1\\xe7=\\xaby\\xec\\xae\"Vs\\x1f\\xe1\\xc7A\\xebKp\\xf5J\\xd6Q\\x08\\xf36\\xe1\\x920|\\xbd(dsNQ\\xa1a\\xfcB\\x99\\x9b\\xa5+\\t\\xe4Sr\\xfe\\x1aq4\\xa3w\\xa1\\x9a#P\\xcd#kY^\\xd6P\\x0e\\xc4h\\xf8\\xe2\\x97\\x8e\\x98\\x1d*\\x93Z7z\\x04\\x82\\x98a\\xd6\\x94\\xbal2\\xc7\\xbb\\x04\\xf5>\\x94\\xa9\\xc6\\xb0!\\x9aF\\x03\\xf0\\xa8\\xc9&\\x9f\\xb4\\xbbw)\\x15\\x9d\\xa9i\\x01\\xe8\\x80\\xb0<\\xf7\\x1d\\xc5\\x1bN\\xd0\\xa4\\xbcc\\x1c2f>\\x8e\\xf9\\xe9\\xf2\\xf5\\xae\\x93\\xe1\\x8d\\x16\\xd2\\xc24[x\\x80=\\xd8\\xf2Z\\xb0\\xcf\\x92b\\xe9\\xe2\\xe2\\xb9\\xaa\\x16Zf\\xb22\\xe9\\xa6\\x92\\xae\\xdb\\xb6\\x91\\x80\\x06s\\x8f\\xe1G\\x9fI\\xd4Lj\\xb76R.y$\\x0e\\xf8\\xc0\\xfeu\\xd7ma#\\x19\\x14\\xf0\\x896\\xf2\\x81\\xbe5\\x9c\\xe5ox$\\xfbpG\\xd1\\xad\\xd7)&\\xf8\\xe4 \\x80\\x19H\\xa8\\xb9\\xf4y\\x02\\xee\\x8f\\xcc0O\\x15\\xf4E\\xe6\\x9ber\\x85nmcu=\\x8a\\xd5\\'\\xc4>\\x0e\\x10D\\xf7Z+>\\xf1\\x96kg>V\\x1d\\xc2\\xfb\\xea\\xe7$g\\x9f\\r\\x8e9\\x18\\xday\\x04c\\xaf\\xba\\x9b\\x95YUw\\x0e\\xa353\\x1d\\xbd\\xac\\xd7L\\\\\\x15I0]\\x14e\\xb7g8\\x14-oN[(T\\x93\\xb9\\xce\\x00\\xc3p\\xa3\\x1c\\xfcy?A\\x9e\\xf5\\xb4\\xaek\\x8a\\xbe\\xf43Dz\\x19\\xa6\\x97\\x95\\x95\\x95\\x94\\x03q\\xd3\\x0b\\xd2\\x97JazU\\x15a\\xe4\\xd4i,\\xd7$\\xe7,[\\x15$x9\\xa1i\\xf6\\x8b>\\xaf\\x14\\x04\\x90\\x8c\\xdb\\x89\\xf7T\\xe5\\xe1\\xe3\\xea\\xf9\\xe1]<\\x8b\\x05q\\x90:\\x8ct\\xcd\\\\\\xf4\\xc8}\\x9bc\\xbej\\x1bO\\x9a\\x0b+p\\xa7\\xc8\\x8b\\xd0\\x0e~T\\xd2\\xf8\\x92\\xc2\\t\\x97\\xda\\xc71N\\xec\\x17\\xa5q\\xd9mzX\\x7f\\x18\\xba\\xda\\xa9~=)\\xf0\\x8a\\x17\\x18\\xa8\\xfd/P\\xb4\\xbd\\x85$\\xb5\\x94:\\x1fA\\xf9S\\xc1\\x91\\x8f\\xe2\\xe3\"\\x9c\\xc4\\xed\\xd8\\xde\\xc8\\x15\\xff\\x00*\\x8e\\xbc\\x84\\xaeN;\\xd3\\xf2\\\\\\xc1\\x10\\xc3\\xcf\\x1a\\xfb\\x99\\x80\\xa04\\x91\\\\F\\x0cn\\x8e\\xa7\\xf6\\x81\\xc8\\xa5aK\\xdb\\x96x\\xc7M\\xb7\\xb2\\xd4%\\xbb\\x8fdK)\\xdd\\xe6\\x07\\x96=z\\x1f\\xdf\\xebT}f\\xf8\\xdcF\\x15Tm\\xcf-\\x8eI\\xf9p>U\\xd1\\xfe\\xd3\\xa3H\\xec\\x94\\xc8\\xbeF\\xc8\\x07\\x1d\\x0f\\xb8\\xd73\\xb9\\x99N\\x9c\\xb1\\xae\\xd2\\t\\xc8\\xc0\\xe6\\xb7\\xe3\\xbb\\x8e>i\\xabP\\xefC4G\\xebC5\\xab\\x16VW\\xb5\\xe5\\x00\\xcct\\xc2\\xf4\\xa5\\x92\\x98S\\xc52\\xafI\\xa3h\\xc0\\x8dv\\x12\\xe0\\x8e3\\xc8\\xc6F)v\\xfaU\\x9d\\xed\\xf2\\x9ae\\xfb\\x10\\xcb,@\\x0c/(q\\x8d\\xa4\\xf7\\xc1\\x07\\x9a\\x9c\\xfc_\\x14\\xddY\\'M\\xb6\\xe2B\\xb9\\xc3q\\x91\\xd0\\xe2\\x98\\xd25\\xcb\\xc5\\x9e\\xda\\x08\\xf4?\\xbcGq Oj\\xcaH\\x07 d\\xe0`\\x0eI\\xe7\\xd0\\xd4\\x9e\\x8d\\x1cR\\xc7\\x18p\\xacr\\x18\\x86\\x15a\\xd3\\xf4\\xe8\"fkpb\\xceK\\x00F\\x07\\xe5\\x9a\\xe7\\xc7/\\xed\\xdfp\\xba\\xe9[\\xbe\\xbck-b1\\r\\x9bY\\xc8\\xaf\\xb2x\\xd4\\xe5\\x18\\xf6#\\xd0\\xe3\\x9a\\xb7\\xea\\'\\xee\\xfa|s#\\xf5\\x03\\x90*\\xa1\\xe2i\\xf6\\xdcF7\\xee;\\x86\\xd1\\xda\\xae0\\x93$0D[k2u\\xc7J\\x9d\\xdd\\xb5\\x98j(\\xb2\\\\\\xf8r\\xe2\\xfdR\\xf7\\xf4\\x80\\xb9\\x93\\x05$Us\\x9c\\xe7\\x04c\\xb7\\x94\\xfd*\\xc3\\xa7\\xc4\\xb6m\\x1b\\xd9^\\xc9qm \\xcf\\x9d\\xb7)\\x1e\\xa3\\xd2\\xa4\"\\xd1bK\\xb8\\xe5\\x9a\\xd2\\t%\\x88\\x15\\x8eR\\xbc\\xa0\\xf7\\x1f\\xf4\\xa2\\xdah\\x91X\\x96\\xf6\\'\\x08y+\\x8e\\x01\\xf7UY4\\xcf]\\xdd\\xaa\\xdfh\\xc8\\xb7\\x1e\\x1d\\x987\\'zm\\xf8\\xe7\\x19\\xae*\\x8c\\xcd\\x11\\xc9\\xe0\\x1c\\x01]\\xaf\\xc7\\xd9\\x92\\xc9m\\xe3\\x1b\\x9eI8Q\\xd4\\x90\\t\\xaeG\\xabi7\\xba-\\xd9\\xb2\\xd4P$\\xfb\\x16N\\x1b \\xab\\x0e?\\x88>\\xf0j\\xf8\\\\\\xbf\\x91;D7Z\\xd0\\xd1\\x1b\\xa9\\xa1\\x9a\\xd9\\xce\\xf3\\x9a\\xca\\xca\\xca\\x01\\x84\\xe2\\x8e\\x9d(\\tF\\x8e\\x99V\\xcdWki!\\x9b\\xc0V1B\\xc1\\xa5\\x86\\xe9\\x8c\\xa0u\\\\\\xef\\xc0\\xaaKU\\x8b\\xc3W6\\xed\\xa75\\x89b.~\\xf5\\xedpG\\x0c\\x9bq\\xc7\\xc0\\x8f\\xce\\xa3\\x93\\xc6\\xbc?\\xb2\\xe5\\xa7\\xce\\xd04g\\x93\\xf0\\xabc]\\x85\\xb4]\\xa0\\xee \\x16\\xfeUS\\x8a=\\xf1\\x8d\\x9dEX\\x1a\\xea\\xdd4\\xa0\\xd3 V\\xc0]\\xd9\\xc5r{\\xe3\\xd2\\xc7/\\x8f\\xaa\\xa6\\xbfy8\\xd4\\x96d\\x84\\xb2\\xc6\\xe3-\\xe8\\xbe\\xa0w\\xe7\\xf7U\\xbfO\\xd7^\\xfe[a\\xf7iULE\\xbd\\xb1Q\\xb0>q\\xb79\\xcf?\\n\\x84\\x8f\\xc4^\\x1e\\xb6\\xbb\\x89\\xa5r\\xc06<\\xab\\x95\\x07\\xdfV\\x9d\\x1f\\\\\\xd1u\\x17\\x16\\xfa}\\xec2L\\x99\\x1b3\\x83\\xf2\\xab\\xd7Z_\\xfa\\x9b\\xb7s,g#\\x0e?\\x10=\\xa8W\\x17\\x06?*\\x00s\\xd2\\xb7e(\\xdb\\xf3\\xf8\\xb85\\x1e\\xe7xr\\xc7\\x9fJ\\x9bt\\x8e\\xaf\\x88\\x19\\x11/\\xbcKn\\x93F\\xce\\xb1\\x89\\x1dH\\xce7`\\x0c\\xd7+\\xf1\\xba\\xc7\\x17\\x8ao\\xedm\\xc8\\xf66\\xbb!@:\\x0c(\\'\\xfb\\xcc\\xdfZ\\xebw\\x1a\\x85\\xb6\\x85\\xa5\\xdc\\xeb7*\\xcc\"W\\x0b\\xd3\\x198\\x01y=I\\x00\\x7f\\x95p\\x814\\x972M<\\xed\\xbaY\\\\\\xbc\\x8c{\\xb19\\'\\xeb[p\\xcf\\xb7\\'\\xe5Y\\xd4\\x85\\x1f\\xbd\\x08\\xd1d\\xeahf\\xb7r<\\xac\\xaf+)\\x01\\xd4\\xf3G\\x8f\\xad\\x00Q\\x93\\xb52n\\xc3\\x8c\\xd3:4\\xc2\\rN\\x17\\'\\x03\\x91\\xf5\\xa07J\\x12\\xc5$\\xb2\\xc7\\x14\\n\\xcd,\\x8e\\x11\\x15z\\x96\\'\\x00\\x0f\\x9d+741\\xba\\xbbt\\xcbK\\xd0\\x8e\\xa4\\xfe\\x13\\xd7\\xbdLk\\xd1\\xdajV\\x91\\xed\\x8btap\\xc0\\xf2\\t\\xf5\\xc7z\\xe7\\xf6Z\\x8c\\xd6\\xb3Kc~\\x81f\\x8d\\x8a7\\xbc\\x83\\x8a\\xb4iz\\xd2\\xec\\x11J<\\xb9\\x1czW%\\xc6\\xcf\\x1e\\x8e9\\xcb\\xea[B\\xb3\\xd4m-\\x8d\\xb4P\\xc4c\\'(d\\xe4\\x1c\\xfb\\xbbT\\xb4\\xbaC\\xde\"~\\x92\\xb0\\x86<\\x7fK\\x19\\nA\\xf5V\\x1c\\xa9\\xf7\\x8a5\\x8e\\xa9o!\\x01H\\xdc\\x07\\x1d0jv\\x1b\\xe8d\\x8bk\\x159\\x1c\\x82j\\xb7t\\xdaed\\xf4\\x1b$\\x92\\x0f\\xd5\\\\]\\x19\\xe3\\x03(_\\x1b\\xbe\\x07\\x81\\x9a\\xd6wM\\xad\\xb4u\\xcd\\x02\\xee\\xe2\\xd0\\xfe\\xa5$\\xda\\xab\\xd0\\x96\\xe9U\\x9f\\x13x\\x92=7M\\x9e\\xe2\\x10\\xcf\\xb4\\x88\\x95\\x90d\\x06l\\xe3?B~U\\x9e\\xaeWH\\xf9Lf\\xd4?\\x1e\\xf8\\xbe\\xe3SG\\xd0\\xa3\\x8dc\\xb4\\xb5\\xbab\\xce\\xa7\\x99H$\\x0f\\x80\\x19\\'\\xdf\\xc5UmySJ\\xc9#H\\xec\\xeeIf9$\\xd36\\x9d\\rvc54\\xf3\\xb3\\xcb\\xe5wB\\x90`\\x9a\\t\\xa3\\xcd\\xd4\\xd0\\rR^VVW\\x94\\x80\\xebLGK+\\xae:\\xd6\\xff\\x00x\\x8d{\\x93\\xf0\\x14\\xc8\\xd3t\\xa9\\xcf\\x00\\xc0\\x97\\x1e2\\xd3\\x83\\x80V\\x02\\xf7,\\x0f\\xfc\\xb4,\\xbf\\xde\\x02\\xab\\rx\\xcd\\xc2&=\\xe4\\xd4\\xff\\x00\\xd9\\xd5\\xc8\\xb7\\xf1\\x96\\x9d$\\xa71\\xb3\\xb2I\\xce2\\xac\\x8c\\x0f\\xe4h\\x1aYm,c\\xd6\\xb4\\xd8&\\xba\\x8c{v@\\xdb\\xd7\\x82\\xa4\\xf2\\x7f:]\\xf4\\xab\\x8bl\\x95\\xcc\\x8a:\\x81\\xd6\\xad\\x96\\x1a<\\x9ae\\xcc\\xd6\\x12e\\xbd\\x83mV\\xfe\\xba~\\xcb|\\xc55sg\\xc1\"\\xb0vk\\xa8\\xa6\\xc4\\x1d0C\\xcb\\x11\\x1f\\x97\\xc8\\xd4\\xa5\\x90\\xbc\\x95\\xce\\xc9\\xee\\x1c\\x0eI\\xe8*r\\xc3M\\x86\\xe1\\xc8\\x964\\x93\\x9e2*z+k+@\\x14\\xa9-\\xd9#\\x19,}\\xc2\\x8d\\xabJ\\xed\\xae\\x89-\\xc0\\xf6\\x97R\\xb8RG\\x91{\\x9e\\xd4\\x1f\\xb5[\\x08\\xb4_\\x07YX\"\\x81qst\\xaf(\\xf4U\\x8d\\xb8\\xf9\\x16_\\xadt\\xed\\x1fK0\\x95\\xbc\\xbc@\\xb2\\x0f\\xf70\\xe7>\\xcf\\xdeOv\\xfd\\xdfZ\\xe3\\x1fl\\xba\\xb7\\xdf\\xfcL\\xd6\\xa8s\\x1d\\x84~\\xc8\\x7f\\xd6\\xd8g\\xff\\x00\\xd4\\x7ff\\xb4\\xc3\\x1f\\xba\\xe7\\xe5\\xce~\\xb1\\xcbB\\x92p1\\xc7rqF\\x86E\\x8c\\xe1\\x98s\\xf1\\xc5\\x17\\xd8f6\\xca\\xe4\\xa8$P\\x964\\xc9\\xe0c\\xdfV\\xc9\\xb5\\xc2m9W\\x8eE\\xf5F\\x07\\xfd)c\\xd6\\x98\\n\\xb9\\xfc#\\xe9[\\x04\\x8c\\xf0PR\\x04\\xeb)\\xdf\\xbb\\xc5\\xe8\\xdfZ\\xca\\x02?\\x04\\xf7&\\xbd\\x0b\\xdb\\x14\\xe8\\n\\t\\x00`\\x8a\\xc8\\x0c^\\xd0\\x99r\\x9e\\x84\\xf4\\xa0\\x15\\x03\\x02\\xa5\\xbc3\\xe5\\xd7\\xb4\\xfeq\\xba\\xe1W\\xfe\\xef/\\xf1\\xa5\\xee-\\xbfj21Lxi\\x1a_\\x10\\xe9\\x8a\\xa3\\xfe2\\x1f\\xfc\\x8bL>\\x8a\\xb6\\x8ck\\x1aDR\\x82\\xab}j\\x81U\\x8f\\xf4\\x8b\\xe9\\xf1\\xf4\\xf9\\xfa\\xd4}\\xdc/o\\x01\\x17p\\xb4,y\\x0f\\xb0\\xf3\\xf1\\x14\\xee\\x9b\\x05\\xd5\\xb4\\xd1\\x84\\xb6g\\xb7;\\xa4s\\xf4\\xda=\\xfcs\\xfd\\xaa\\x97\\xb9T\\xd4mLSFB\\x9e9\\x1c\\xa9\\xecy\\xee(\\xcf\\x8fwq\\xaf\\x175\\xc2j\\xf8\\xa3Gr\\xd1~\\xb2\\xdc\\xa9\\xcf\\xedc5w\\xd0\\xf4\\x81\\x0e\\x96\\xb7\\xd2\\xb17S(vv\\xfcJ\\xa7\\xb0\\xf4\\xe3\\xadU\\x1e\\xda;9L^\\xcc\\xabw\\xcf\\x1f\\xfd\\xf1\\xab\\xf6\\x93\\xa8\\xd8\\xdfXI\\x1cR\\xee\\x16\\xe8#\\x9dX`\\xaf\\x97\\xf7c\\xb8\\xe3\\xe9X\\xe1\\xefm\\xff\\x00#\\x7f\\x1e\\x99\\r\\xd4pi\\xd3\\xcd#\\xe6+ev$\\xff\\x00T\\x0c\\xd7\\xcb\\xba\\x85\\xd3j\\x17w\\x17rg\\xdaO+\\xca\\xd999bO\\xf1\\xae\\xe7\\xe3Y\\xe5\\xd3<\\x0f\\xab\\xdc\\x9f+\\xdd\\xc5\\xb5\\xc18#yUP>\\x00\\xe2\\xb8\\x02\\xb1\\r\\xb8q[\\xde\\x9cPH\\xd7\\xf7R2C\\xb5\\xd9@\\xe3\\xb56\\xf7\\x00(\\x08\\xben\\xf9\\xe9@i\\x19\\x8eN\\x0f\\xca\\x91\\x86W\\x0b\\x9fA\\xcdj\\x87-\\x9a\\xc9\\x9bd{{\\xb9\\xcf\\xc8W\\x90\\x8e)\\x01s^W\\xbe\\xcc\\xfa\\xd6S\\x05\\xe58\\xb9o~(\\x81F8\\x1c\\xfa\\x1a\\xd2A\\xfe\\xd7\\x8a>x\\xa4\\x03u>\\xcf\\x18\\xe39\\xc5K\\xf8\\x19U\\xfcY\\xa5\\x07\\xc6\\xdf\\xbeC\\x9c\\xfao\\x15\\x18FT\\xd4\\x87\\x83\\xfc\\xbe$\\xd3\\x98pE\\xdc_\\xe3\\x14\\xe0}U\\x18\\n6\\x03\\xbc\\x1e\\xddO\\xc6\\x84\\xf0\\x04\\x9f\\xce\\x9dFs\\x9e\\xde\\xfa_G\\xba\\x95\"\\x992\\x08W\\x18\\xcd0\\xb3<\\xf7\\xa1\\x1f\\x18\\xdd\\x8e*\\xafD\\x1d\\xcd\\x92^[\\xc9\\x0f\\xb3\\xdcYHR{\\x1e\\xc74\\xb6\\x95\\xa2\\xae\\x9a\\x92\\xc4\\x8d\\xbd\\xee\\x1c=\\xcc\\x83\\x8d\\xe4\\x00\\x02\\x8fA\\xfc\\xcdX\\x80\\n\\xb8Q\\x80)x\\xfc\\xd7<\\xf6\\x19\\x15;\\xdfg\\xbb&\\x9c\\xcf\\xed\\xd2\\xf0\\xc3\\xe1\\xa8-T\\x8cKw\\x1a\\xb7\\xbf\\n\\xcd\\x8f\\xaa\\xadq\\x13\\xc2\\xf6\\xf9WQ\\xfbq\\x9eF\\xfd\\r\\x19o,\\xb2\\\\H\\xdf\\x15\\x11\\x81\\xfe#\\\\\\xb6N\\xa6\\x80\\x13\\r\\xc7\\x1d+\\xd8\\xa3Gc\\xcb\\x00;\\xd0\\x98\\x9a\\xdb{\\x0bg \\xf3\\xd2\\x80Zy\\x0c\\xd2\\xb3v\\xe8>\\x14\\xd5\\xb4M\\xec\\xf3\\x8aN\\x11\\x99@5<QR\\xd8m\\x1d\\xa8\\x05\\xb0=++\\\\\\x9a\\xca\\x03\\xff\\xd9'"
      ]
     },
     "execution_count": 53,
     "metadata": {},
     "output_type": "execute_result"
    }
   ],
   "source": [
    "requests.get(\"https://encrypted-tbn0.gstatic.com/images?q=tbn:ANd9GcQ91bYeYuNi93Snai-G61-ct5IkXUEpoeW1RpiOFFuRWggNeJf-7uN0OZsy5XI&s\").content"
   ]
  },
  {
   "cell_type": "code",
   "execution_count": 50,
   "id": "918473ce-5c0c-4bf1-9205-92827588919b",
   "metadata": {},
   "outputs": [],
   "source": [
    "#Download all the links in our dir file\n",
    "for i in image_tags:\n",
    "    image_url = i['src']                               #Fetching images urls\n",
    "    image_data=requests.get(image_url).content         #content of each image in binary format            \n",
    "    with open(os.path.join(save_dir,f\"{query}_{image_tags.index(i)}.jpg\"),\"wb\") as f:                    #wb means write binary\n",
    "        f.write(image_data)"
   ]
  },
  {
   "cell_type": "code",
   "execution_count": 52,
   "id": "63681377-4b33-4f28-9d06-4d34657584a7",
   "metadata": {},
   "outputs": [
    {
     "data": {
      "text/plain": [
       "'images/elon musk_19.jpg'"
      ]
     },
     "execution_count": 52,
     "metadata": {},
     "output_type": "execute_result"
    }
   ],
   "source": [
    "os.path.join(save_dir,f\"{query}_{image_tags.index(i)}.jpg\")"
   ]
  },
  {
   "cell_type": "code",
   "execution_count": null,
   "id": "27635a6a-bf36-4af1-b420-1b074a45f073",
   "metadata": {},
   "outputs": [],
   "source": []
  },
  {
   "cell_type": "code",
   "execution_count": null,
   "id": "ffd2a8e6-1c0c-422a-900f-1abb90382ad9",
   "metadata": {},
   "outputs": [],
   "source": []
  },
  {
   "cell_type": "code",
   "execution_count": null,
   "id": "aaf5c972-47af-4b9c-a195-cdad0dfa6e02",
   "metadata": {},
   "outputs": [],
   "source": []
  }
 ],
 "metadata": {
  "kernelspec": {
   "display_name": "Python 3 (ipykernel)",
   "language": "python",
   "name": "python3"
  },
  "language_info": {
   "codemirror_mode": {
    "name": "ipython",
    "version": 3
   },
   "file_extension": ".py",
   "mimetype": "text/x-python",
   "name": "python",
   "nbconvert_exporter": "python",
   "pygments_lexer": "ipython3",
   "version": "3.11.4"
  }
 },
 "nbformat": 4,
 "nbformat_minor": 5
}
